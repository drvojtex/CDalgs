{
 "cells": [
  {
   "cell_type": "markdown",
   "metadata": {},
   "source": [
    "# CDalgs - Community detection algorithms\n",
    "\n",
    "There is an overview of four algorithms for community dentection on undirected graphs. \n",
    "- ModMax - modularity maximisation of the whole graph. \n",
    "- Louvain method - hierarchically based modularity maximisation. \n",
    "- CDEP algorithm - the third one performs graph compression and seeding expansion. \n",
    "- NCClustering - greedy approach of near clique (dense subgraphs) clustering.\n"
   ]
  },
  {
   "cell_type": "markdown",
   "metadata": {},
   "source": [
    "Load libraries"
   ]
  },
  {
   "cell_type": "code",
   "execution_count": null,
   "metadata": {},
   "outputs": [],
   "source": [
    "using CDalgs\n",
    "using MLDatasets\n",
    "using LinearAlgebra, StatsBase\n",
    "using Graphs, SimpleWeightedGraphs\n",
    "using Plots"
   ]
  },
  {
   "cell_type": "markdown",
   "metadata": {},
   "source": [
    "Load dataset & define clustering and graph methods"
   ]
  },
  {
   "cell_type": "code",
   "execution_count": null,
   "metadata": {},
   "outputs": [],
   "source": [
    "dataset = MNIST(:train).features\n",
    "#clustering = g -> modmax_clustering(g) \n",
    "#clustering = g -> louvain_clustering(g) \n",
    "#clustering = g -> cdep_clustering(g) \n",
    "clustering = g -> nc_clustering(g)\n",
    "create_graph = d -> correlation_graph(d)"
   ]
  },
  {
   "cell_type": "markdown",
   "metadata": {},
   "source": [
    "Prepare data and correlation graph"
   ]
  },
  {
   "cell_type": "code",
   "execution_count": null,
   "metadata": {},
   "outputs": [],
   "source": [
    "n= size(dataset)[1]\n",
    "\n",
    "data_vec = collect(hcat(\n",
    "    map(x -> vec(x), eachslice(dataset, dims=3))...\n",
    ")')\n",
    "\n",
    "@show size(data_vec)\n",
    "    \n",
    "g = create_graph(data_vec)"
   ]
  },
  {
   "cell_type": "markdown",
   "metadata": {},
   "source": [
    "Perform community detection (graph clustering)"
   ]
  },
  {
   "cell_type": "code",
   "execution_count": null,
   "metadata": {},
   "outputs": [],
   "source": [
    "clusters = clustering(g)\n",
    "clusters_matrix = transpose(reshape(clusters, (n, n)))"
   ]
  },
  {
   "cell_type": "markdown",
   "metadata": {},
   "source": [
    "Create color map"
   ]
  },
  {
   "cell_type": "code",
   "execution_count": null,
   "metadata": {},
   "outputs": [],
   "source": [
    "clusters_matrix_colors = fill(RGB(0, 0, 0), (n, n))\n",
    "colors_vec = map(x->RGB(rand(1)[1], rand(1)[1], rand(1)[1]), 1:length(unique(clusters)))\n",
    "for i::Int64=1:n for j::Int64=1:n\n",
    "    clusters_matrix_colors[i, j] = colors_vec[clusters_matrix[i, j]]\n",
    "end end\n",
    "plot(clusters_matrix_colors)"
   ]
  },
  {
   "cell_type": "markdown",
   "metadata": {},
   "source": [
    "Display clustering of different methods"
   ]
  },
  {
   "cell_type": "code",
   "execution_count": null,
   "metadata": {},
   "outputs": [],
   "source": [
    "function clusterdataset(dataset::T, clustering::Function,\n",
    "    graph::Function) where T<:AbstractArray\n",
    "\n",
    "    n::Int64 = size(dataset)[1]\n",
    "\n",
    "    data_vec::Matrix = collect(hcat(\n",
    "    map(x -> vec(x), eachslice(dataset, dims=3))...\n",
    "    )')\n",
    "\n",
    "    g::SimpleWeightedGraph = graph(data_vec)\n",
    "\n",
    "    clusters::Vector{Int64} = clustering(g)\n",
    "    clusters_matrix::Matrix{Int64} = transpose(reshape(clusters, (n, n)))\n",
    "\n",
    "    clusters_matrix_colors = fill(RGB(0, 0, 0), (n, n))\n",
    "    colors_vec = map(x->RGB(rand(1)[1], rand(1)[1], rand(1)[1]), 1:length(unique(clusters)))\n",
    "    for i::Int64=1:n for j::Int64=1:n\n",
    "    clusters_matrix_colors[i, j] = colors_vec[clusters_matrix[i, j]]\n",
    "    end end\n",
    "    clusters_matrix, plot(clusters_matrix_colors, title=String(Symbol(clustering)))\n",
    "end\n",
    "\n",
    "dataset = MNIST(:train).features\n",
    "\n",
    "imgs = []\n",
    "#append!(imgs, [clusterdataset(dataset, modmax_clustering, d->correlation_graph(d))[2]])\n",
    "append!(imgs, [clusterdataset(dataset, louvain_clustering, d->correlation_graph(d))[2]])\n",
    "#append!(imgs, [clusterdataset(dataset, cdep_clustering, d->correlation_graph(d))[2]])\n",
    "append!(imgs, [clusterdataset(dataset, nc_clustering, d->correlation_graph(d))[2]])\n",
    "\n",
    "plot(imgs..., layout=(1, 2))"
   ]
  }
 ],
 "metadata": {
  "kernelspec": {
   "display_name": "Julia 1.7.0",
   "language": "julia",
   "name": "julia-1.7"
  },
  "language_info": {
   "file_extension": ".jl",
   "mimetype": "application/julia",
   "name": "julia",
   "version": "1.7.0"
  }
 },
 "nbformat": 4,
 "nbformat_minor": 2
}
