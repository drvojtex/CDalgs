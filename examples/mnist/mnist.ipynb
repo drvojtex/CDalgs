{
 "cells": [
  {
   "cell_type": "markdown",
   "metadata": {},
   "source": [
    "# CDalgs - Community detection algorithms\n",
    "\n",
    "There is an overview of four algorithms for community dentection on undirected graphs. \n",
    "- ModMax - modularity maximisation of the whole graph. \n",
    "- Louvain method - hierarchically based modularity maximisation. \n",
    "- CDEP algorithm - the third one performs graph compression and seeding expansion. \n",
    "- NCClustering - greedy approach of near clique (dense subgraphs) clustering.\n"
   ]
  },
  {
   "cell_type": "markdown",
   "metadata": {},
   "source": [
    "Load libraries"
   ]
  },
  {
   "cell_type": "code",
   "execution_count": 1,
   "metadata": {},
   "outputs": [],
   "source": [
    "using CDalgs\n",
    "using MLDatasets\n",
    "using LinearAlgebra, StatsBase\n",
    "using Graphs, SimpleWeightedGraphs\n",
    "using Plots"
   ]
  },
  {
   "cell_type": "markdown",
   "metadata": {},
   "source": [
    "Load dataset & define clustering and graph methods"
   ]
  },
  {
   "cell_type": "code",
   "execution_count": 2,
   "metadata": {},
   "outputs": [
    {
     "data": {
      "text/plain": [
       "#3 (generic function with 1 method)"
      ]
     },
     "execution_count": 2,
     "metadata": {},
     "output_type": "execute_result"
    }
   ],
   "source": [
    "dataset = MNIST(:train).features\n",
    "#clustering = g -> modmax_clustering(g) \n",
    "#clustering = g -> louvain_clustering(g) \n",
    "#clustering = g -> cdep_clustering(g) \n",
    "clustering = g -> nc_clustering(g)\n",
    "create_graph = d -> correlation_graph(d)"
   ]
  },
  {
   "cell_type": "markdown",
   "metadata": {},
   "source": [
    "Prepare data and correlation graph"
   ]
  },
  {
   "cell_type": "code",
   "execution_count": 3,
   "metadata": {},
   "outputs": [
    {
     "name": "stdout",
     "output_type": "stream",
     "text": [
      "size(data_vec) = (60000, 784)\n"
     ]
    },
    {
     "data": {
      "text/plain": [
       "{784, 176763} undirected simple Int64 graph with Float64 weights"
      ]
     },
     "execution_count": 3,
     "metadata": {},
     "output_type": "execute_result"
    }
   ],
   "source": [
    "n = size(dataset)[1]\n",
    "\n",
    "data_vec = collect(hcat(\n",
    "    map(x -> vec(x), eachslice(dataset, dims=3))...\n",
    ")')\n",
    "\n",
    "@show size(data_vec)\n",
    "    \n",
    "g = create_graph(data_vec)"
   ]
  },
  {
   "cell_type": "markdown",
   "metadata": {},
   "source": [
    "Perform community detection (graph clustering)"
   ]
  },
  {
   "cell_type": "code",
   "execution_count": 4,
   "metadata": {},
   "outputs": [
    {
     "name": "stdout",
     "output_type": "stream",
     "text": [
      "size(clusters) = (784,)\n",
      "size(clusters_matrix) = (28, 28)\n"
     ]
    },
    {
     "data": {
      "text/plain": [
       "(28, 28)"
      ]
     },
     "execution_count": 4,
     "metadata": {},
     "output_type": "execute_result"
    }
   ],
   "source": [
    "clusters = clustering(g)\n",
    "@show size(clusters)\n",
    "clusters_matrix = transpose(reshape(clusters, (n, n)))\n",
    "@show size(clusters_matrix)"
   ]
  },
  {
   "cell_type": "markdown",
   "metadata": {},
   "source": [
    "Create color map"
   ]
  },
  {
   "cell_type": "code",
   "execution_count": 5,
   "metadata": {},
   "outputs": [
    {
     "data": {
      "image/png": "[encoded data removed]"
     },
     "execution_count": 5,
     "metadata": {},
     "output_type": "execute_result"
    }
   ],
   "source": [
    "clusters_matrix_colors = fill(RGB(0, 0, 0), (n, n))\n",
    "colors_vec = map(x->RGB(rand(1)[1], rand(1)[1], rand(1)[1]), 1:length(unique(clusters)))\n",
    "for i::Int64=1:n for j::Int64=1:n\n",
    "    clusters_matrix_colors[i, j] = colors_vec[clusters_matrix[i, j]]\n",
    "end end\n",
    "gr(size=(400, 400), html_output_format=:png)\n",
    "plot(clusters_matrix_colors)"
   ]
  },
  {
   "cell_type": "markdown",
   "metadata": {},
   "source": [
    "Display clustering of different methods"
   ]
  },
  {
   "cell_type": "code",
   "execution_count": 6,
   "metadata": {},
   "outputs": [
    {
     "name": "stderr",
     "output_type": "stream",
     "text": [
      "┌ Warning: Note: adding edges with a zero weight to this graph type has no effect.\n",
      "└ @ SimpleWeightedGraphs /Users/kozvojtex/.julia/packages/SimpleWeightedGraphs/E0rMD/src/simpleweightedgraph.jl:123\n"
     ]
    },
    {
     "data": {
      "text/plain": [
       "3-element Vector{Any}:\n",
       " Plot{Plots.GRBackend() n=1}\n",
       " Plot{Plots.GRBackend() n=1}\n",
       " Plot{Plots.GRBackend() n=1}"
      ]
     },
     "execution_count": 6,
     "metadata": {},
     "output_type": "execute_result"
    }
   ],
   "source": [
    "function clusterdataset(g::SimpleWeightedGraph, clustering::Function)\n",
    "\n",
    "    n::Int64 = sqrt(length(vertices(g)))\n",
    "\n",
    "    clusters::Vector{Int64} = clustering(g)\n",
    "    clusters_matrix::Matrix{Int64} = transpose(reshape(clusters, (n, n)))\n",
    "\n",
    "    clusters_matrix_colors = fill(RGB(0, 0, 0), (n, n))\n",
    "    colors_vec = map(x->RGB(rand(1)[1], rand(1)[1], rand(1)[1]), 1:length(unique(clusters)))\n",
    "    for i::Int64=1:n for j::Int64=1:n\n",
    "    clusters_matrix_colors[i, j] = colors_vec[clusters_matrix[i, j]]\n",
    "    end end\n",
    "    clusters_matrix, plot(clusters_matrix_colors, title=String(Symbol(clustering)))\n",
    "end\n",
    "\n",
    "imgs = []\n",
    "#append!(imgs, [clusterdataset(dataset, modmax_clustering, d->correlation_graph(d))[2]])\n",
    "append!(imgs, [clusterdataset(g, louvain_clustering)[2]])\n",
    "nc_clustering_95(g) = nc_clustering(g, α=.95)\n",
    "nc_clustering_99(g) = nc_clustering(g, α=.99)\n",
    "append!(imgs, [clusterdataset(g, nc_clustering_95)[2]])\n",
    "append!(imgs, [clusterdataset(g, nc_clustering_99)[2]])"
   ]
  },
  {
   "cell_type": "markdown",
   "metadata": {},
   "source": [
    "Plot heatmaps"
   ]
  },
  {
   "cell_type": "code",
   "execution_count": 7,
   "metadata": {},
   "outputs": [
    {
     "data": {
      "image/png": "[encoded data removed]"
     },
     "execution_count": 7,
     "metadata": {},
     "output_type": "execute_result"
    }
   ],
   "source": [
    "gr(size=(700, 700), html_output_format=:png)\n",
    "plot(imgs..., layout=(2, 2))"
   ]
  }
 ],
 "metadata": {
  "kernelspec": {
   "display_name": "Julia 1.7.0",
   "language": "julia",
   "name": "julia-1.7"
  },
  "language_info": {
   "file_extension": ".jl",
   "mimetype": "application/julia",
   "name": "julia",
   "version": "1.7.0"
  }
 },
 "nbformat": 4,
 "nbformat_minor": 2
}
