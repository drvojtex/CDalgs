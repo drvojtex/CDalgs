{
 "cells": [
  {
   "cell_type": "markdown",
   "metadata": {},
   "source": [
    "# CDalgs - Community detection algorithms on fsv dataset\n",
    "\n",
    "There is a overview of detection of communities on time series. \n",
    "The dataset consists of 2D curves; each curve consists of points with the two coordinates (x, y). \n",
    "The concept is defined as follow. The shape is (batch, agents, features):\n",
    "  - the batch are particular samples (curves)\n",
    "  - agents are particular points of the curve\n",
    "  - features are 'x' and 'y' coordinates of each point\n",
    "\n"
   ]
  },
  {
   "cell_type": "markdown",
   "metadata": {},
   "source": [
    "Load libraries"
   ]
  },
  {
   "cell_type": "code",
   "execution_count": null,
   "metadata": {},
   "outputs": [],
   "source": [
    "using CDalgs\n",
    "using BSON, DataFrames\n",
    "using Graphs, SimpleWeightedGraphs\n",
    "using Interact, Plots"
   ]
  },
  {
   "cell_type": "markdown",
   "metadata": {},
   "source": [
    "Load dataset"
   ]
  },
  {
   "cell_type": "code",
   "execution_count": null,
   "metadata": {},
   "outputs": [],
   "source": [
    "dataset_a = BSON.load(\"dataset_a.bson\")\n",
    "data = dataset_a[:data_tensor];"
   ]
  },
  {
   "cell_type": "markdown",
   "metadata": {},
   "source": [
    "Correlation graph on angents with few features & clustering function"
   ]
  },
  {
   "cell_type": "code",
   "execution_count": null,
   "metadata": {},
   "outputs": [],
   "source": [
    "function get_clusters_ff(smoothness, clustering)\n",
    "    clustering(correlation_graph_ff(data; smoothness=smoothness))\n",
    "end"
   ]
  },
  {
   "cell_type": "markdown",
   "metadata": {},
   "source": [
    "Evaluate clustering methods"
   ]
  },
  {
   "cell_type": "code",
   "execution_count": null,
   "metadata": {},
   "outputs": [],
   "source": [
    "ncc95(g) = nc_clustering(g; α=.95)\n",
    "ncc99(g) = nc_clustering(g; α=.99)\n",
    "ncc999(g) = nc_clustering(g; α=.999)\n",
    "clustering_algs = [louvain_clustering, ncc95, ncc99, ncc999]\n",
    "\n",
    "up=0.6; down=0.3; step=0.05 \n",
    "clusters_mapping = zeros(Int(round((up-down)/step+1)), length(clustering_algs), size(data)[2])\n",
    "for (smoothness, i) in zip(down:step:up, 1:Int(round((up-down)/step+1)))\n",
    "    clusters_vecs = zeros(length(clustering_algs), size(data)[2])\n",
    "    for (clustering, j) in zip(clustering_algs, 1:length(clustering_algs))\n",
    "        clusters_vecs[j, :] .= get_clusters_ff(smoothness, clustering)\n",
    "    end\n",
    "    clusters_mapping[i, :, :] .= clusters_vecs\n",
    "end"
   ]
  },
  {
   "cell_type": "markdown",
   "metadata": {},
   "source": [
    "Visualise results of clustering on all samples from the dataset"
   ]
  },
  {
   "cell_type": "code",
   "execution_count": null,
   "metadata": {},
   "outputs": [],
   "source": [
    "plots_mat = fill(plot(), size(clusters_mapping)[1], size(clusters_mapping)[2])\n",
    "for smoothness_id=1:size(clusters_mapping)[1] for clustering_alg_id=1:size(clusters_mapping)[2]\n",
    "    cmap = Int.(clusters_mapping[smoothness_id, clustering_alg_id, :])\n",
    "    p = plot(title=String(\n",
    "            Symbol(clustering_algs[clustering_alg_id], \n",
    "                \", smoothness: \", round(up-down+step*(smoothness_id-1), digits=2)\n",
    "                )))\n",
    "    for i=1:100\n",
    "        sample_i = data[i, :, :].*(-1)\n",
    "        last_point_idx = 1\n",
    "        for j in unique(cmap)\n",
    "            cmap_j_idxs = findall(x->x==j, cmap)\n",
    "            tmp = sample_i[union(cmap_j_idxs, last_point_idx), :]\n",
    "            last_point_idx = maximum(cmap_j_idxs)\n",
    "            scatter!(p, tmp[:, 1], tmp[:, 2], color=palette(:default)[j], legend=false, markersize=2.5)\n",
    "        end\n",
    "        scatter!(p, \n",
    "            [sample_i[argmax(sample_i[:, 2]), :][1]], \n",
    "            [sample_i[argmax(sample_i[:, 2]), :][2]], color=:black, legend=false\n",
    "        )\n",
    "    end\n",
    "    plots_mat[smoothness_id, clustering_alg_id] = p\n",
    "end end\n",
    "\n",
    "interactive_plot_distributions = @manipulate for \n",
    "    method = widget(Dict(String.(Symbol.(clustering_algs)) .=> 1:length(clustering_algs)), label=\"Method selection\"), \n",
    "    smoothness = widget(sort(Dict(collect(down:step:up) .=> 1:length(collect(down:step:up))), by=x->x[1]), label=\"Smoothness selection\")\n",
    "    plot(plots_mat[smoothness[], method[]])\n",
    "end\n",
    "\n"
   ]
  },
  {
   "cell_type": "code",
   "execution_count": null,
   "metadata": {},
   "outputs": [],
   "source": [
    "interactive_plot_clusters_per_sample = @manipulate throttle=1 for i=1:100, \n",
    "    method = widget(Dict(String.(Symbol.(clustering_algs)) .=> 1:length(clustering_algs)), label=\"Method selection\"),\n",
    "    smoothness = widget(sort(Dict(collect(down:step:up) .=> 1:length(collect(down:step:up))), by=x->x[1]), label=\"Smoothness selection\")\n",
    "    \n",
    "    p = plot()\n",
    "    sample_i = data[i, :, :].*(-1)\n",
    "    cmap = Int.(clusters_mapping[smoothness[], method[], :])\n",
    "    last_point_idx = 1\n",
    "    for j in unique(cmap)\n",
    "        cmap_j_idxs = findall(x->x==j, cmap)\n",
    "        tmp = sample_i[union(cmap_j_idxs, last_point_idx), :]\n",
    "        last_point_idx = maximum(cmap_j_idxs)\n",
    "        scatter!(p, tmp[:, 1], tmp[:, 2], color=palette(:default)[j], legend=false, markersize=5)\n",
    "    end\n",
    "    plot!(p, sample_i[:, 1], sample_i[:, 2], color=:black, legend=false, ls=:dash)\n",
    "    scatter!(p, \n",
    "        [sample_i[argmax(sample_i[:, 2]), :][1]], \n",
    "        [sample_i[argmax(sample_i[:, 2]), :][2]], color=:black, legend=false\n",
    "    )\n",
    "    p\n",
    "end"
   ]
  },
  {
   "cell_type": "code",
   "execution_count": null,
   "metadata": {},
   "outputs": [],
   "source": []
  },
  {
   "cell_type": "code",
   "execution_count": null,
   "metadata": {},
   "outputs": [],
   "source": []
  }
 ],
 "metadata": {
  "@webio": {
   "lastCommId": "14cc55b22cc645788af79c966bf2ad38",
   "lastKernelId": "6f4753a6-20a0-4fa0-b791-fa3a78801c0c"
  },
  "kernelspec": {
   "display_name": "Julia 1.7.0",
   "language": "julia",
   "name": "julia-1.7"
  },
  "language_info": {
   "file_extension": ".jl",
   "mimetype": "application/julia",
   "name": "julia",
   "version": "1.7.0"
  },
  "vscode": {
   "interpreter": {
    "hash": "60aa0a847b2a6c4771b6f0a4a09c35a6025b095fa5d9ee644f9ad21b1db0180c"
   }
  }
 },
 "nbformat": 4,
 "nbformat_minor": 2
}
